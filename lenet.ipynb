{
  "cells": [
    {
      "cell_type": "code",
      "execution_count": null,
      "metadata": {
        "colab": {
          "base_uri": "https://localhost:8080/"
        },
        "id": "TldJtMlGgShJ",
        "outputId": "1f4286f4-8961-47aa-e001-29a40b9fd6c4"
      },
      "outputs": [
        {
          "name": "stdout",
          "output_type": "stream",
          "text": [
            "Mounted at /content/drive\n"
          ]
        }
      ],
      "source": [
        "from google.colab import drive\n",
        "drive.mount('/content/drive')"
      ]
    },
    {
      "cell_type": "code",
      "execution_count": null,
      "metadata": {
        "id": "Tf-UxRtkgHn4"
      },
      "outputs": [],
      "source": [
        "!pip install mrfi\n",
        "!pip install torch\n",
        "!pip install torchvision"
      ]
    },
    {
      "cell_type": "code",
      "execution_count": null,
      "metadata": {
        "colab": {
          "base_uri": "https://localhost:8080/"
        },
        "id": "id_So7Gcizoh",
        "outputId": "c7617ee7-c66f-4696-b73c-567a2cd1557c"
      },
      "outputs": [
        {
          "name": "stdout",
          "output_type": "stream",
          "text": [
            "cuda:0\n"
          ]
        }
      ],
      "source": [
        "from mrfi import MRFI, EasyConfig\n",
        "import torch\n",
        "import torchvision\n",
        "from torchvision import transforms\n",
        "import torch.nn as nn\n",
        "import torch.nn.functional as F\n",
        "import torch.optim as optim\n",
        "\n",
        "device = torch.device(\"cuda:0\" if torch.cuda.is_available() else \"cpu\")"
      ]
    },
    {
      "cell_type": "code",
      "execution_count": null,
      "metadata": {
        "id": "OyZNP8ySmzjq"
      },
      "outputs": [],
      "source": [
        "class LeNet(nn.Module):\n",
        "  def __init__(self, trained=False):\n",
        "    super(LeNet, self).__init__()\n",
        "    self.conv1 = nn.Conv2d(1, 6, 5)\n",
        "    self.conv2 = nn.Conv2d(6, 16, 5)\n",
        "    self.fc1 = nn.Linear(16*4*4, 120)\n",
        "    self.fc2 = nn.Linear(120, 84)\n",
        "    self.fc3 = nn.Linear(84, 10)\n",
        "\n",
        "    if trained:\n",
        "      self.load_state_dict(torch.load('/content/drive/MyDrive/LeNet/train/lenet_mnist.pth'))\n",
        "\n",
        "  def forward(self, x):\n",
        "    x = F.max_pool2d(F.relu(self.conv1(x)), (2,2))\n",
        "    x = F.max_pool2d(F.relu(self.conv2(x)), 2)\n",
        "    x = x.view(x.size()[0], -1)\n",
        "    x = F.relu(self.fc1(x))\n",
        "    x = F.relu(self.fc2(x))\n",
        "    x = self.fc3(x)\n",
        "    return x\n",
        "lenet = LeNet()"
      ]
    },
    {
      "cell_type": "code",
      "execution_count": null,
      "metadata": {
        "id": "ZhFIGB31inQ4"
      },
      "outputs": [],
      "source": [
        "def get_mnist(batch_size=64):\n",
        "  transform = transforms.Compose(\n",
        "      [transforms.ToTensor(),\n",
        "       transforms.Normalize((0.1307,), (0.3081,))]\n",
        "  )\n",
        "\n",
        "  trainset = torchvision.datasets.MNIST(\n",
        "      root='/content/drive/MyDrive/LeNet/data', train=True, download=True, transform=transform\n",
        "  )\n",
        "  testset = torchvision.datasets.MNIST(\n",
        "      root='/content/drive/MyDrive/LeNet/data', train=False, download=True, transform=transform\n",
        "  )\n",
        "\n",
        "  trainloader = torch.utils.data.DataLoader(\n",
        "      trainset, batch_size=batch_size, shuffle=True\n",
        "  )\n",
        "  testloader = torch.utils.data.DataLoader(\n",
        "      testset, batch_size=batch_size, shuffle=False\n",
        "  )\n",
        "\n",
        "  return trainloader, testloader"
      ]
    },
    {
      "cell_type": "code",
      "execution_count": null,
      "metadata": {
        "id": "1i5z7dC6hDIp"
      },
      "outputs": [],
      "source": [
        "def load_dataset(dataset='mnist', batch_size=64):\n",
        "\n",
        "  if dataset.lower()=='mnist':\n",
        "    train, test = get_mnist()\n",
        "    return train, test\n",
        "\n",
        "trainloader, testloader = load_dataset()"
      ]
    },
    {
      "cell_type": "code",
      "execution_count": null,
      "metadata": {
        "colab": {
          "base_uri": "https://localhost:8080/"
        },
        "id": "L7MzX6y3rXFL",
        "outputId": "accf0514-4e17-47f5-b803-616e2917ed47"
      },
      "outputs": [
        {
          "name": "stdout",
          "output_type": "stream",
          "text": [
            "Epoch 1/1, Loss: 0.2310\n"
          ]
        }
      ],
      "source": [
        "def train(epochs=1):\n",
        "  lenet = LeNet()\n",
        "  lenet.to(device)\n",
        "\n",
        "  criterion = nn.CrossEntropyLoss()\n",
        "  optimizer = optim.Adam(lenet.parameters(), lr=0.001)\n",
        "\n",
        "  lenet.train()\n",
        "\n",
        "  for epoch in range(epochs):\n",
        "    running_loss = 0\n",
        "    batch_size = 100\n",
        "    for i, data in trainloader:\n",
        "      inputs, labels = i.to(device), data.to(device)\n",
        "\n",
        "      optimizer.zero_grad()\n",
        "\n",
        "      outputs = lenet(inputs)\n",
        "      loss = criterion(outputs, labels)\n",
        "      loss.backward()\n",
        "      optimizer.step()\n",
        "      running_loss += loss.item()\n",
        "\n",
        "    print(f\"Epoch {epoch+1}/{epochs}, Loss: {running_loss/len(trainloader):.4f}\")\n",
        "  torch.save(lenet.state_dict(), '/content/drive/MyDrive/LeNet/train/lenet_mnist.pth')\n",
        "train()"
      ]
    },
    {
      "cell_type": "code",
      "execution_count": null,
      "metadata": {
        "colab": {
          "base_uri": "https://localhost:8080/"
        },
        "id": "Jw9la45awc7I",
        "outputId": "43825263-15df-4615-f282-c0393246a1e2"
      },
      "outputs": [
        {
          "name": "stdout",
          "output_type": "stream",
          "text": [
            "Accuracy of the network on the 10000 test images: 100 %\n"
          ]
        }
      ],
      "source": [
        "def test():\n",
        "  lenet = LeNet().to(device)\n",
        "  lenet.load_state_dict(torch.load('/content/drive/MyDrive/LeNet/train/lenet_mnist.pth'))\n",
        "  lenet.eval()\n",
        "\n",
        "  correct = 0\n",
        "  total = 0\n",
        "\n",
        "  with torch.no_grad():\n",
        "      for images, labels in testloader:\n",
        "          images, labels = images.to(device), labels.to(device)\n",
        "          outputs = lenet(images)\n",
        "          _, predicted = torch.max(outputs.data, 1)\n",
        "          total += labels.size(0)\n",
        "          correct += (predicted == labels).sum().item()\n",
        "          break\n",
        "\n",
        "      print('Accuracy of the network on the 10000 test images: %d %%' % (\n",
        "        100 * correct / total))\n",
        "\n",
        "test()"
      ]
    }
  ],
  "metadata": {
    "accelerator": "GPU",
    "colab": {
      "gpuType": "T4",
      "provenance": []
    },
    "kernelspec": {
      "display_name": "venv",
      "language": "python",
      "name": "python3"
    },
    "language_info": {
      "name": "python",
      "version": "3.12.3"
    }
  },
  "nbformat": 4,
  "nbformat_minor": 0
}
